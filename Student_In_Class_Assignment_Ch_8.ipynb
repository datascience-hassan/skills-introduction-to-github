{
  "cells": [
    {
      "cell_type": "markdown",
      "metadata": {
        "id": "51gCuC6VJ3gu"
      },
      "source": [
        "##Final Class Exercise\n"
      ]
    },
    {
      "cell_type": "markdown",
      "metadata": {
        "id": "7pxJ6i3jH7Yq"
      },
      "source": [
        "Write a Python function create_email(full_name) that builds a UNT email in the format\n",
        "firstname.lastname@my.unt.edu.\n",
        "\n",
        "Rules\n",
        "\n",
        "• Use the first and last word from full_name (case-insensitive).\n",
        "\n",
        "• Convert everything to lowercase.\n",
        "\n",
        "• If there is only one word, use it twice (e.g., \"ali\" → ali.ali@my.unt.edu).\n",
        "\n",
        "• Return the email string.\n",
        "\n",
        "Constraints\n",
        "\n",
        "• Use a function and return.\n",
        "\n",
        "• Do not use input() or external libraries.\n",
        "\n",
        "test your code with this list\n",
        "names = [\n",
        "\"Sara Amini\",\n",
        "\"Ali\",\n",
        "\"Mary Jane\",\n",
        "\" John Smith \",\n",
        "\"LINA\",\n",
        "\"madonna\",\n",
        "\" sara amini \"\n",
        "]\n"
      ]
    },
    {
      "cell_type": "code",
      "execution_count": 1,
      "metadata": {
        "id": "6jcH9Qm_IXWh"
      },
      "outputs": [
        {
          "name": "stdout",
          "output_type": "stream",
          "text": [
            "sara.amini@my.unt.edu\n",
            "ali.ali@my.unt.edu\n",
            "mary.jane@my.unt.edu\n",
            "john.smith@my.unt.edu\n",
            "lina.lina@my.unt.edu\n",
            "madonna.madonna@my.unt.edu\n",
            "sara.amini@my.unt.edu\n"
          ]
        }
      ],
      "source": [
        "def create_email(full_name):\n",
        "    full_name = full_name.strip().lower()\n",
        "    parts = full_name.split()\n",
        "    if len(parts) == 1:\n",
        "        first = last = parts[0]\n",
        "    else:\n",
        "        first = parts[0]\n",
        "        last = parts[1]\n",
        "    email = f\"{first}.{last}@my.unt.edu\"\n",
        "    return email\n",
        "\n",
        "names = [\"Sara Amini\", \"Ali\", \"Mary Jane\", \"John Smith\", \"Lina\",\"madonna\", \"sara amini\"]\n",
        "for name in names:    \n",
        "    print(create_email(name))\n",
        "   \n",
        "    \n",
        "    \n",
        "\n",
        "\n",
        "\n",
        "\n",
        "    \n",
        "\n",
        "\n",
        "\n",
        "\n",
        "\n"
      ]
    }
  ],
  "metadata": {
    "colab": {
      "provenance": []
    },
    "kernelspec": {
      "display_name": "base",
      "language": "python",
      "name": "python3"
    },
    "language_info": {
      "codemirror_mode": {
        "name": "ipython",
        "version": 3
      },
      "file_extension": ".py",
      "mimetype": "text/x-python",
      "name": "python",
      "nbconvert_exporter": "python",
      "pygments_lexer": "ipython3",
      "version": "3.13.5"
    }
  },
  "nbformat": 4,
  "nbformat_minor": 0
}
